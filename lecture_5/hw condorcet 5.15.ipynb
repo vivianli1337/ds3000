{
 "cells": [
  {
   "cell_type": "markdown",
   "id": "d37f0eb1",
   "metadata": {},
   "source": [
    "# 5/15 Condorcet\n",
    "jurors accuracy = 0.5 to max \n",
    "n jurors - how many jurors will be in this equation\n",
    "- e.g. 11; 21\n",
    "part of randomization process with multiple trials\n",
    "accuracy -> increasing --- can still make mistakes\n",
    "\n",
    "n increase --> 100% accuracy\n",
    "max value increase --> 100%\n",
    "\n",
    "## effect of n and max value on the majority accuracy\n",
    "### hw 1 graph\n",
    "- x: some fixed # of juror & accuracy range (0-1.0)\n",
    "- y: majority accuracy (0-100%)\n",
    "\n",
    "n = 11, 21, 31\n",
    "- assign the same level of accuracy to some x accuracy\n",
    "\n",
    "result: increasing curve steep slope\n",
    "w/ horizontal line intercepting the slope\n",
    "- getting steeper as n increase\n",
    "\n",
    "### hw 2 grid\n",
    "- interaction w/ people \n",
    "- 2d array (mxn of data)\n",
    "    - square or rectange of individual values\n",
    "    - represent arrays by lists of lists\n",
    "    - contains same type data value in each location\n",
    "- each row = days (last day = m-1)\n",
    "    - each row = some percentage of sick\n",
    "- each col = seat # (last seat = n-1)\n",
    "    - each col\n",
    "inital day = some indiviudals are sick (across the rows)\n",
    "- if sick; will not sick the next day\n",
    "- if sat next to sick individuals; prob of sick next day\n",
    "    - any prob values (0-1)\n",
    "        - too low = healthy & noone sick\n",
    "        - too high = everyone is sick\n",
    "- transmission intermediate value\n",
    "- transmission is independent \n",
    "\n",
    "rules: \n",
    "1. if a person is next to exactly 1 infected individual, then they become infected in day+1\n",
    "\n",
    "### hw 3 trees of boston\n",
    "- initialize array\n",
    "- 1000 x 1000\n",
    "- more than one tree maps to same location = total # mapped to that point\n",
    "- know long & lat of tagged gps tree\n",
    "y = lat: 42.2 to 42.4\n",
    "x = long: -21.2 to -70.9\n",
    "task = map it to a particular ij location \n",
    "- what are the boundaries of the array\n",
    "    - upper left: define max lat & min long \n",
    "increasing i = decreasing lat \n",
    "increasing j = decreasing long"
   ]
  }
 ],
 "metadata": {
  "kernelspec": {
   "display_name": "Python 3 (ipykernel)",
   "language": "python",
   "name": "python3"
  },
  "language_info": {
   "codemirror_mode": {
    "name": "ipython",
    "version": 3
   },
   "file_extension": ".py",
   "mimetype": "text/x-python",
   "name": "python",
   "nbconvert_exporter": "python",
   "pygments_lexer": "ipython3",
   "version": "3.10.11"
  }
 },
 "nbformat": 4,
 "nbformat_minor": 5
}
