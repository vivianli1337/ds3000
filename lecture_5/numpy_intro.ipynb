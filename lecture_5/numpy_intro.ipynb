{
 "cells": [
  {
   "cell_type": "markdown",
   "id": "1eefc4f6",
   "metadata": {},
   "source": [
    "# types of arrays\n",
    "\n",
    "| types             | Description                                               | advantage                                                             | disadvantage                                    | example                                                             |\n",
    "|-------------------|-----------------------------------------------------------|-----------------------------------------------------------------------|-------------------------------------------------|---------------------------------------------------------------------|\n",
    "| lists             | standard built-in python list collection                  | - simplicity<br>- non-homogeneous<br>- no limitations on object                                     | - slower performance<br>- limited functionality | [[1,2,3], [4,5,6]]                                                  |\n",
    "| ndarray (NumPy)   | high-performance array module for scientific applications | - high performance<br>- flexible operations                           | - homogeneous values<br>- numeric indexing only | array([1,2,3])                                                      |\n",
    "| series (Pandas)   | enhanced one-dimensional array                            | - custom indexing<br>- missing-value support<br>- many capabilities   | - complexity                                    | Wally 87<br>Eva 100<br>Sam 94<br>dtype: int64                       |\n",
    "| DataFrame (Pandas | enhanced two-dimensional array (e.g. \"tables\"             | - flexible support for manipulating tabular data: filtering & sorting | - complexity                                    | 0  A   B    C<br>0 10 True  5.4<br>1 15 False 8.8<br>2 13 False 6.6 |"
   ]
  },
  {
   "cell_type": "markdown",
   "id": "b00c0cc9",
   "metadata": {},
   "source": [
    "## NumPy Array\n",
    "- instantiating from a list, range (arrange), or linspace\n",
    "- array attributes via dtype, ndim, shape, size, and itemsize\n",
    "- filling arrays: zeros, ones, full, arrange, linspace\n",
    "- altering dimensions uysing reshape\n",
    "- array operators and broadcasting\n",
    "- array calculations\n",
    "- indexing and slicing "
   ]
  },
  {
   "cell_type": "markdown",
   "id": "e484db7d",
   "metadata": {},
   "source": [
    "# DataFrames\n",
    "- instantiatinng from dictionary, or csv file\n",
    "- customizing row names (index parameter)\n",
    "- slicing rows and columns using **loc** and **iloc**\n",
    "- boolean indexining\n",
    "- accessing a specific cell in the DataFrame using **at**\n",
    "- descriptive statistics using **describe()**\n",
    "- tranposition with **.T**\n",
    "- sorting with **sort_index** and **sort_values. inplace** sorting\n",
    "- group aggregating with **groupby**\n",
    "- adding a column\n"
   ]
  },
  {
   "cell_type": "markdown",
   "id": "1bde9261",
   "metadata": {},
   "source": [
    "## tensors - numbers\n",
    "| Tensor rank | alternate name | application                                            |\n",
    "|-------------|----------------|--------------------------------------------------------|\n",
    "| 0           | scalar         | a single value                                         |\n",
    "| 1           | vector         | - a sequence of words<br>- temperature readings        |\n",
    "| 2           | matrix         | one gray-scale image                                   |\n",
    "| 3           | 3D Tensor      | - one color image<br>- a sequence of gray-scale images |\n",
    "| 4           | 4D Tensor      | - one video<br>- a sequence of color images            |\n",
    "| 5           | 5D Tensor      | - a sequence of videos                                 |"
   ]
  },
  {
   "cell_type": "code",
   "execution_count": 2,
   "id": "61e18e17",
   "metadata": {},
   "outputs": [],
   "source": [
    "# Introduction to numpy"
   ]
  },
  {
   "cell_type": "code",
   "execution_count": 1,
   "id": "ec6eb488",
   "metadata": {},
   "outputs": [
    {
     "ename": "SyntaxError",
     "evalue": "invalid syntax (995393104.py, line 2)",
     "output_type": "error",
     "traceback": [
      "\u001b[0;36m  Cell \u001b[0;32mIn[1], line 2\u001b[0;36m\u001b[0m\n\u001b[0;31m    .min()\u001b[0m\n\u001b[0m    ^\u001b[0m\n\u001b[0;31mSyntaxError\u001b[0m\u001b[0;31m:\u001b[0m invalid syntax\n"
     ]
    }
   ],
   "source": [
    "# aggregations - apply to entire array if not specify\n",
    ".min()\n",
    ".max()\n",
    ".sum()\n",
    ".max(axis=0)"
   ]
  },
  {
   "cell_type": "code",
   "execution_count": 2,
   "id": "b9f4b6e6",
   "metadata": {},
   "outputs": [
    {
     "data": {
      "text/plain": [
       "[[1, 20, 3], [400, 5, 6], [7, 8888, 9], [0, 0, 0]]"
      ]
     },
     "execution_count": 2,
     "metadata": {},
     "output_type": "execute_result"
    }
   ],
   "source": [
    "A = [[1, 20, 3], [400, 5, 6], [7, 8888, 9], [0,0,0]]\n",
    "A"
   ]
  },
  {
   "cell_type": "code",
   "execution_count": 3,
   "id": "7ebfba89",
   "metadata": {},
   "outputs": [
    {
     "name": "stdout",
     "output_type": "stream",
     "text": [
      "[[1, 20, 3], [400, 5, 6], [7, 8888, 9], [0, 0, 0]]\n"
     ]
    }
   ],
   "source": [
    "print(A)"
   ]
  },
  {
   "cell_type": "code",
   "execution_count": 5,
   "id": "49afacb5",
   "metadata": {},
   "outputs": [],
   "source": [
    "import numpy as np"
   ]
  },
  {
   "cell_type": "code",
   "execution_count": 6,
   "id": "0c99f941",
   "metadata": {},
   "outputs": [],
   "source": [
    "N = np.array(A)"
   ]
  },
  {
   "cell_type": "code",
   "execution_count": 7,
   "id": "cb679c32",
   "metadata": {},
   "outputs": [
    {
     "data": {
      "text/plain": [
       "array([[   1,   20,    3],\n",
       "       [ 400,    5,    6],\n",
       "       [   7, 8888,    9],\n",
       "       [   0,    0,    0]])"
      ]
     },
     "execution_count": 7,
     "metadata": {},
     "output_type": "execute_result"
    }
   ],
   "source": [
    "N"
   ]
  },
  {
   "cell_type": "code",
   "execution_count": 8,
   "id": "39e30afc",
   "metadata": {},
   "outputs": [
    {
     "name": "stdout",
     "output_type": "stream",
     "text": [
      "[[   1   20    3]\n",
      " [ 400    5    6]\n",
      " [   7 8888    9]\n",
      " [   0    0    0]]\n"
     ]
    }
   ],
   "source": [
    "print(N)"
   ]
  },
  {
   "cell_type": "code",
   "execution_count": 9,
   "id": "26931e66",
   "metadata": {},
   "outputs": [
    {
     "data": {
      "text/plain": [
       "numpy.ndarray"
      ]
     },
     "execution_count": 9,
     "metadata": {},
     "output_type": "execute_result"
    }
   ],
   "source": [
    "type(N)"
   ]
  },
  {
   "cell_type": "code",
   "execution_count": 10,
   "id": "d03795d8",
   "metadata": {},
   "outputs": [
    {
     "data": {
      "text/plain": [
       "(4, 3)"
      ]
     },
     "execution_count": 10,
     "metadata": {},
     "output_type": "execute_result"
    }
   ],
   "source": [
    "# attributes / properties\n",
    "N.shape"
   ]
  },
  {
   "cell_type": "code",
   "execution_count": 11,
   "id": "741353ed",
   "metadata": {},
   "outputs": [],
   "source": [
    "rows, cols = N.shape"
   ]
  },
  {
   "cell_type": "code",
   "execution_count": 12,
   "id": "aad7ebe8",
   "metadata": {},
   "outputs": [
    {
     "data": {
      "text/plain": [
       "4"
      ]
     },
     "execution_count": 12,
     "metadata": {},
     "output_type": "execute_result"
    }
   ],
   "source": [
    "rows"
   ]
  },
  {
   "cell_type": "code",
   "execution_count": 13,
   "id": "57018558",
   "metadata": {},
   "outputs": [
    {
     "data": {
      "text/plain": [
       "3"
      ]
     },
     "execution_count": 13,
     "metadata": {},
     "output_type": "execute_result"
    }
   ],
   "source": [
    "cols"
   ]
  },
  {
   "cell_type": "code",
   "execution_count": 14,
   "id": "fac79df8",
   "metadata": {},
   "outputs": [
    {
     "data": {
      "text/plain": [
       "array([[0, 0, 0, 0, 0, 0, 0, 0, 0, 0],\n",
       "       [0, 0, 0, 0, 0, 0, 0, 0, 0, 0],\n",
       "       [0, 0, 0, 0, 0, 0, 0, 0, 0, 0],\n",
       "       [0, 0, 0, 0, 0, 0, 0, 0, 0, 0],\n",
       "       [0, 0, 0, 0, 0, 0, 0, 0, 0, 0]])"
      ]
     },
     "execution_count": 14,
     "metadata": {},
     "output_type": "execute_result"
    }
   ],
   "source": [
    "# other types of initializations\n",
    "A = np.zeros((5, 10), dtype=int)\n",
    "A"
   ]
  },
  {
   "cell_type": "code",
   "execution_count": 15,
   "id": "7566f44f",
   "metadata": {},
   "outputs": [
    {
     "data": {
      "text/plain": [
       "array([[1, 1],\n",
       "       [1, 1]])"
      ]
     },
     "execution_count": 15,
     "metadata": {},
     "output_type": "execute_result"
    }
   ],
   "source": [
    "B = np.ones((2,2), dtype=int)\n",
    "B"
   ]
  },
  {
   "cell_type": "code",
   "execution_count": 16,
   "id": "7f920fc6",
   "metadata": {},
   "outputs": [
    {
     "data": {
      "text/plain": [
       "array([[3.14, 3.14, 3.14, 3.14],\n",
       "       [3.14, 3.14, 3.14, 3.14],\n",
       "       [3.14, 3.14, 3.14, 3.14]])"
      ]
     },
     "execution_count": 16,
     "metadata": {},
     "output_type": "execute_result"
    }
   ],
   "source": [
    "C = np.full((3,4), 3.14)\n",
    "C"
   ]
  },
  {
   "cell_type": "code",
   "execution_count": 17,
   "id": "191591ce",
   "metadata": {},
   "outputs": [
    {
     "name": "stdout",
     "output_type": "stream",
     "text": [
      "[[  0   0   0   0   0   0   0   0   0   0   0]\n",
      " [  0   1   2   3   4   5   6   7   8   9  10]\n",
      " [  0   2   4   6   8  10  12  14  16  18  20]\n",
      " [  0   3   6   9  12  15  18  21  24  27  30]\n",
      " [  0   4   8  12  16  20  24  28  32  36  40]\n",
      " [  0   5  10  15  20  25  30  35  40  45  50]\n",
      " [  0   6  12  18  24  30  36  42  48  54  60]\n",
      " [  0   7  14  21  28  35  42  49  56  63  70]\n",
      " [  0   8  16  24  32  40  48  56  64  72  80]\n",
      " [  0   9  18  27  36  45  54  63  72  81  90]\n",
      " [  0  10  20  30  40  50  60  70  80  90 100]]\n"
     ]
    }
   ],
   "source": [
    "# init from a function\n",
    "def f(x,y):\n",
    "    return x * y\n",
    "\n",
    "MT = np.fromfunction(f, (11, 11), dtype=int)\n",
    "print(MT)"
   ]
  },
  {
   "cell_type": "code",
   "execution_count": 18,
   "id": "cf1fc0a9",
   "metadata": {},
   "outputs": [
    {
     "name": "stdout",
     "output_type": "stream",
     "text": [
      "[[0 0 0 0 0]\n",
      " [0 0 0 0 0]\n",
      " [0 0 0 0 0]\n",
      " [0 0 0 0 0]\n",
      " [0 0 0 0 0]]\n"
     ]
    }
   ],
   "source": [
    "A = np.zeros((5,5), dtype=int)\n",
    "print(A)"
   ]
  },
  {
   "cell_type": "code",
   "execution_count": 26,
   "id": "13c3e6f1",
   "metadata": {},
   "outputs": [
    {
     "name": "stdout",
     "output_type": "stream",
     "text": [
      "[[0 0 0 0 0]\n",
      " [0 0 0 0 0]\n",
      " [0 0 0 1 0]\n",
      " [0 0 0 0 0]\n",
      " [0 0 0 0 0]]\n"
     ]
    }
   ],
   "source": [
    "A[2,3] = 1\n",
    "print(A)"
   ]
  },
  {
   "cell_type": "code",
   "execution_count": 19,
   "id": "392e8b71",
   "metadata": {},
   "outputs": [
    {
     "name": "stdout",
     "output_type": "stream",
     "text": [
      "[[ 0  0  0  0  0]\n",
      " [ 3  0  0  0  0]\n",
      " [ 0  0  0  0  0]\n",
      " [ 0 20  0  0  0]\n",
      " [ 0  0  0  0  2]]\n"
     ]
    }
   ],
   "source": [
    "A[1,0] = 3\n",
    "A[4,4] = 2\n",
    "A[3,1] = 20\n",
    "print(A)"
   ]
  },
  {
   "cell_type": "code",
   "execution_count": 20,
   "id": "326b9bbe",
   "metadata": {},
   "outputs": [
    {
     "data": {
      "text/plain": [
       "<matplotlib.image.AxesImage at 0x7f8570122680>"
      ]
     },
     "execution_count": 20,
     "metadata": {},
     "output_type": "execute_result"
    },
    {
     "data": {
      "image/png": "[encoded data removed]",
      "text/plain": [
       "<Figure size 640x480 with 1 Axes>"
      ]
     },
     "metadata": {},
     "output_type": "display_data"
    }
   ],
   "source": [
    "import matplotlib.pyplot as plt\n",
    "plt.imshow(A)"
   ]
  },
  {
   "cell_type": "code",
   "execution_count": 24,
   "id": "f2d4cc52",
   "metadata": {},
   "outputs": [
    {
     "data": {
      "text/plain": [
       "<matplotlib.image.AxesImage at 0x7f8574b5f850>"
      ]
     },
     "execution_count": 24,
     "metadata": {},
     "output_type": "execute_result"
    },
    {
     "data": {
      "image/png": "[encoded data removed]",
      "text/plain": [
       "<Figure size 640x480 with 1 Axes>"
      ]
     },
     "metadata": {},
     "output_type": "display_data"
    }
   ],
   "source": [
    "plt.imshow(A, cmap='Greys')"
   ]
  },
  {
   "cell_type": "code",
   "execution_count": 21,
   "id": "890e216e",
   "metadata": {
    "scrolled": true
   },
   "outputs": [
    {
     "data": {
      "text/plain": [
       "<matplotlib.image.AxesImage at 0x7f856ff94220>"
      ]
     },
     "execution_count": 21,
     "metadata": {},
     "output_type": "execute_result"
    },
    {
     "data": {
      "image/png": "[encoded data removed]",
      "text/plain": [
       "<Figure size 640x480 with 1 Axes>"
      ]
     },
     "metadata": {},
     "output_type": "display_data"
    }
   ],
   "source": [
    "import matplotlib.pyplot as plt\n",
    "plt.imshow(A, cmap='viridis', interpolation='hamming', vmin=0, vmax=20)"
   ]
  },
  {
   "cell_type": "code",
   "execution_count": null,
   "id": "3926e9de",
   "metadata": {},
   "outputs": [],
   "source": []
  }
 ],
 "metadata": {
  "kernelspec": {
   "display_name": "Python 3 (ipykernel)",
   "language": "python",
   "name": "python3"
  },
  "language_info": {
   "codemirror_mode": {
    "name": "ipython",
    "version": 3
   },
   "file_extension": ".py",
   "mimetype": "text/x-python",
   "name": "python",
   "nbconvert_exporter": "python",
   "pygments_lexer": "ipython3",
   "version": "3.10.11"
  }
 },
 "nbformat": 4,
 "nbformat_minor": 5
}
