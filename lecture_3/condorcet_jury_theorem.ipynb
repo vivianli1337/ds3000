{
 "cells": [
  {
   "cell_type": "markdown",
   "id": "31e8a84c",
   "metadata": {},
   "source": [
    "### The Condorcet Jury Theorem\n",
    "\n",
    "The Condorcet Jury Theorem is a political science and probability theory concept named after the French mathematician and philosopher Marquis de Condorcet. The theorem explores the relationship between the accuracy of individual decision-makers (voters or jurors) and the accuracy of the collective decision made by the group.\n",
    "\n",
    "The theorem assumes that:\n",
    "\n",
    "- Each individual in the group has a probability p of making the correct decision (independently of the others), where 0.5 < p < 1. In other words, each individual is more likely than not to make the correct decision.\n",
    "- The individuals make their decisions independently of each other.\n",
    "\n",
    "Under these conditions, the Condorcet Jury Theorem states that:\n",
    "\n",
    "As the group size (number of individuals) increases, the probability that the group makes the correct decision approaches 1 (certainty).\n",
    "If each individual's probability of making the correct decision is above 0.5, then adding more individuals to the group will improve the group's decision-making accuracy.\n",
    "Conversely, if each individual's probability of making the correct decision is below 0.5, then adding more individuals to the group will reduce the group's decision-making accuracy.\n",
    "In simpler terms, the theorem suggests that, under the specified conditions, the \"wisdom of the crowd\" prevails. A larger group of individuals, each with a better-than-random chance of making the correct decision, will collectively make better decisions than any single individual or a smaller group. However, if the individual's probability of making the correct decision is below 0.5, the group's collective decision-making would worsen with additional members.\n",
    "\n",
    "The Condorcet Jury Theorem has applications in various fields, such as political science, economics, and decision-making theory. It provides a basis for understanding how collective decision-making can lead to more accurate outcomes, given that certain conditions are met.\n",
    "\n",
    "\n",
    "\n",
    "\n",
    "\n"
   ]
  },
  {
   "cell_type": "code",
   "execution_count": 2,
   "id": "37b3a600",
   "metadata": {},
   "outputs": [
    {
     "name": "stdout",
     "output_type": "stream",
     "text": [
      "Count to 10\n",
      "0\n",
      "1\n",
      "2\n",
      "3\n",
      "4\n",
      "5\n",
      "6\n",
      "7\n",
      "8\n",
      "9\n",
      "Iterate over values in a list\n",
      "5\n",
      "hello\n",
      "3.13\n",
      "True\n",
      "[1, 2, 3]\n"
     ]
    }
   ],
   "source": [
    "# Review of for loops\n",
    "print(\"Count to 10\")\n",
    "for i in range(10):\n",
    "    print(i)\n",
    "    \n",
    "print(\"Iterate over values in a list\")\n",
    "for item in [5, 'hello', 3.13, True, [1,2,3]]:\n",
    "    print(item)"
   ]
  },
  {
   "cell_type": "code",
   "execution_count": 3,
   "id": "2e71814e",
   "metadata": {},
   "outputs": [
    {
     "data": {
      "text/plain": [
       "[2, 2, 2, 3, 2, 2, 4, 2, 3, 8]"
      ]
     },
     "execution_count": 3,
     "metadata": {},
     "output_type": "execute_result"
    }
   ],
   "source": [
    "# Review of list comprehension\n",
    "\n",
    "[x**2 for x in range(10)]\n",
    "\n",
    "[len(word) for word in \"to be or not to be that is the question\".split()]"
   ]
  },
  {
   "cell_type": "code",
   "execution_count": 4,
   "id": "6b9e612d",
   "metadata": {},
   "outputs": [
    {
     "data": {
      "text/plain": [
       "[-0.6239279552210337,\n",
       " 0.255883175412692,\n",
       " 0.19679498371365348,\n",
       " 0.012348240098453199,\n",
       " 0.30154676906839706]"
      ]
     },
     "execution_count": 4,
     "metadata": {},
     "output_type": "execute_result"
    }
   ],
   "source": [
    "# Review of random number generation\n",
    "import random as rnd\n",
    "\n",
    "rnd.seed(3.14159)\n",
    "[rnd.randrange(1,5) for _ in range(5)]\n",
    "[rnd.choice(['a', 'b', 'c']) for _ in range(5)]\n",
    "[rnd.uniform(.2, .3) for _ in range(5)]\n",
    "[rnd.gauss(0, 1) for _ in range(5)]"
   ]
  },
  {
   "cell_type": "code",
   "execution_count": 10,
   "id": "1bc66b8a",
   "metadata": {},
   "outputs": [
    {
     "name": "stdout",
     "output_type": "stream",
     "text": [
      "Counter({'t': 18, 'a': 16, 'g': 15, 'c': 13})\n",
      "Most common:  t\n"
     ]
    }
   ],
   "source": [
    "# Review of counter library\n",
    "from collections import Counter\n",
    "dna = \"agctagctagcatgcatcgatagtcgatctattctaatatattcggcggcgattatcgcgag\"\n",
    "counts = Counter(dna)\n",
    "print(counts)\n",
    "\n",
    "print(\"Most common: \", counts.most_common(1)[0][0])"
   ]
  },
  {
   "cell_type": "code",
   "execution_count": 6,
   "id": "ae57a026",
   "metadata": {},
   "outputs": [
    {
     "data": {
      "text/plain": [
       "[0.6317627338013048,\n",
       " 0.6400319665065742,\n",
       " 0.5347638939570527,\n",
       " 0.5671113310045285,\n",
       " 0.6664350500065948,\n",
       " 0.5266783328491332,\n",
       " 0.658450619798008,\n",
       " 0.6640564014592262,\n",
       " 0.5299744903196982,\n",
       " 0.5533619624001279,\n",
       " 0.5300547984313192]"
      ]
     },
     "execution_count": 6,
     "metadata": {},
     "output_type": "execute_result"
    }
   ],
   "source": [
    "# Create 11 \"jurors\" with verdict accuracy in range (0.5, x)\n",
    "n = 11\n",
    "max_accuracy = 0.667\n",
    "jury = [rnd.uniform(.5, max_accuracy) for _ in range(n)]\n",
    "jury"
   ]
  },
  {
   "cell_type": "code",
   "execution_count": 11,
   "id": "ea1181c7",
   "metadata": {},
   "outputs": [],
   "source": [
    "# Create a series of outcomes (0=innocent or 1=guilty) to be decided upon\n",
    "n_outcomes = 100000\n",
    "outcomes = [rnd.choice([0,1]) for _ in range(n_outcomes)]\n"
   ]
  },
  {
   "cell_type": "code",
   "execution_count": 13,
   "id": "7b398cb6",
   "metadata": {},
   "outputs": [
    {
     "ename": "SyntaxError",
     "evalue": "'(' was never closed (1451263281.py, line 12)",
     "output_type": "error",
     "traceback": [
      "\u001b[0;36m  Cell \u001b[0;32mIn[13], line 12\u001b[0;36m\u001b[0m\n\u001b[0;31m    verdicts.append(Counter(verdict).most_common(1)[0][0]\u001b[0m\n\u001b[0m                   ^\u001b[0m\n\u001b[0;31mSyntaxError\u001b[0m\u001b[0;31m:\u001b[0m '(' was never closed\n"
     ]
    }
   ],
   "source": [
    "# for each outcome, and each juror makes a verdict decision\n",
    "# In this model, we don't require unanimity. Instead, the jurors vote.\n",
    "# The majority vote is the decision of the jury.\n",
    "verdicts = []\n",
    "for out in outcomes:\n",
    "    verdict = []\n",
    "    for juror in jury:\n",
    "        if rnd.random() < juror:\n",
    "            verdict.append(out)\n",
    "        else:\n",
    "            verdict.append(1-out)\n",
    "    verdicts.append(Counter(verdict).most_common(1)[0][0]_\n",
    "print(verdicts)"
   ]
  },
  {
   "cell_type": "code",
   "execution_count": 138,
   "id": "bb277264",
   "metadata": {},
   "outputs": [
    {
     "name": "stdout",
     "output_type": "stream",
     "text": [
      "0.7494\n"
     ]
    }
   ],
   "source": [
    "# Compute the jury verdict accuracy for each \n",
    "correct = 0\n",
    "for i in range(len(outcomes)):\n",
    "    if outcomes[i] == verdicts[i]:\n",
    "        correct += 1\n",
    "print(correct / len(outcomes))\n",
    "    "
   ]
  },
  {
   "cell_type": "code",
   "execution_count": null,
   "id": "d43ee4d5",
   "metadata": {},
   "outputs": [],
   "source": []
  }
 ],
 "metadata": {
  "kernelspec": {
   "display_name": "Python 3 (ipykernel)",
   "language": "python",
   "name": "python3"
  },
  "language_info": {
   "codemirror_mode": {
    "name": "ipython",
    "version": 3
   },
   "file_extension": ".py",
   "mimetype": "text/x-python",
   "name": "python",
   "nbconvert_exporter": "python",
   "pygments_lexer": "ipython3",
   "version": "3.10.11"
  }
 },
 "nbformat": 4,
 "nbformat_minor": 5
}
