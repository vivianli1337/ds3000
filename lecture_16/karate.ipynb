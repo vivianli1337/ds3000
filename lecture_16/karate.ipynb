{
 "cells": [
  {
   "cell_type": "code",
   "execution_count": 1,
   "id": "34ae246f",
   "metadata": {},
   "outputs": [],
   "source": [
    "# a survey of random graph generation and graph analysis techniques in NetworkX"
   ]
  },
  {
   "cell_type": "code",
   "execution_count": 3,
   "id": "cee5b38e",
   "metadata": {},
   "outputs": [
    {
     "ename": "ModuleNotFoundError",
     "evalue": "No module named 'networks'",
     "output_type": "error",
     "traceback": [
      "\u001b[0;31m---------------------------------------------------------------------------\u001b[0m",
      "\u001b[0;31mModuleNotFoundError\u001b[0m                       Traceback (most recent call last)",
      "Cell \u001b[0;32mIn[3], line 1\u001b[0m\n\u001b[0;32m----> 1\u001b[0m \u001b[38;5;28;01mimport\u001b[39;00m \u001b[38;5;21;01mnetworks\u001b[39;00m \u001b[38;5;28;01mas\u001b[39;00m \u001b[38;5;21;01mnx\u001b[39;00m\n",
      "\u001b[0;31mModuleNotFoundError\u001b[0m: No module named 'networks'"
     ]
    }
   ],
   "source": [
    "import networks as nx\n",
    "import numpy as np\n",
    "import matplotlib.pyplot as plt\n",
    "import"
   ]
  },
  {
   "cell_type": "code",
   "execution_count": 4,
   "id": "2320f351",
   "metadata": {},
   "outputs": [
    {
     "ename": "NameError",
     "evalue": "name 'nx' is not defined",
     "output_type": "error",
     "traceback": [
      "\u001b[0;31m---------------------------------------------------------------------------\u001b[0m",
      "\u001b[0;31mNameError\u001b[0m                                 Traceback (most recent call last)",
      "Cell \u001b[0;32mIn[4], line 2\u001b[0m\n\u001b[1;32m      1\u001b[0m \u001b[38;5;66;03m# social networks\u001b[39;00m\n\u001b[0;32m----> 2\u001b[0m karate \u001b[38;5;241m=\u001b[39m \u001b[43mnx\u001b[49m\u001b[38;5;241m.\u001b[39mkarate_club_graph()\n\u001b[1;32m      3\u001b[0m nx\u001b[38;5;241m.\u001b[39mdraw_networkx(karate)\n",
      "\u001b[0;31mNameError\u001b[0m: name 'nx' is not defined"
     ]
    }
   ],
   "source": [
    "# social networks\n",
    "karate = nx.karate_club_graph()\n",
    "nx.draw_networkx(karate)"
   ]
  },
  {
   "cell_type": "code",
   "execution_count": 5,
   "id": "0f842ee7",
   "metadata": {},
   "outputs": [
    {
     "ename": "NameError",
     "evalue": "name 'nx' is not defined",
     "output_type": "error",
     "traceback": [
      "\u001b[0;31m---------------------------------------------------------------------------\u001b[0m",
      "\u001b[0;31mNameError\u001b[0m                                 Traceback (most recent call last)",
      "Cell \u001b[0;32mIn[5], line 1\u001b[0m\n\u001b[0;32m----> 1\u001b[0m c10 \u001b[38;5;241m=\u001b[39m \u001b[43mnx\u001b[49m\u001b[38;5;241m.\u001b[39mcomplete_graph(\u001b[38;5;241m10\u001b[39m)\n\u001b[1;32m      2\u001b[0m nx\u001b[38;5;241m.\u001b[39mdraw_networks(c10)\n",
      "\u001b[0;31mNameError\u001b[0m: name 'nx' is not defined"
     ]
    }
   ],
   "source": [
    "c10 = nx.complete_graph(10)\n",
    "nx.draw_networks(c10)"
   ]
  },
  {
   "cell_type": "code",
   "execution_count": 6,
   "id": "18e94396",
   "metadata": {},
   "outputs": [
    {
     "ename": "NameError",
     "evalue": "name 'nx' is not defined",
     "output_type": "error",
     "traceback": [
      "\u001b[0;31m---------------------------------------------------------------------------\u001b[0m",
      "\u001b[0;31mNameError\u001b[0m                                 Traceback (most recent call last)",
      "Cell \u001b[0;32mIn[6], line 1\u001b[0m\n\u001b[0;32m----> 1\u001b[0m lattices5 \u001b[38;5;241m=\u001b[39m \u001b[43mnx\u001b[49m\u001b[38;5;241m.\u001b[39mgrid_2d_graph(\u001b[38;5;241m5\u001b[39m,\u001b[38;5;241m5\u001b[39m)\n\u001b[1;32m      2\u001b[0m nx\u001b[38;5;241m.\u001b[39mdraw_networkx(lattice5)\n",
      "\u001b[0;31mNameError\u001b[0m: name 'nx' is not defined"
     ]
    }
   ],
   "source": [
    "lattices5 = nx.grid_2d_graph(5,5)\n",
    "nx.draw_networkx(lattice5)"
   ]
  },
  {
   "cell_type": "code",
   "execution_count": null,
   "id": "50a0d3a3",
   "metadata": {},
   "outputs": [],
   "source": [
    "# random graph\n",
    "# Erdos Renyi Graphs G(n, p) n=vertices, p=probability of edge\n",
    "er = nx.erdos_renyi_graph(25, 0.25)\n",
    "nx.draw_networkx(er)\n",
    "# if p < 0.50 - getting more and more sparse\n"
   ]
  },
  {
   "cell_type": "code",
   "execution_count": null,
   "id": "aebb7a9e",
   "metadata": {},
   "outputs": [],
   "source": [
    "n = 500\n",
    "P = np.linspace(0, .1, 500)\n",
    "cc = [] # connected components counts\n",
    "for p in P:\n",
    "    G = nx.erdos_renyi_graph(n, p)\n",
    "    cc.append(nx.number_connected_components(G))\n",
    "    \n",
    "plt.scatter(P, cc, marker='.')\n",
    "plt.grid()\n",
    "plt.xscale('log')\n",
    "    "
   ]
  },
  {
   "cell_type": "code",
   "execution_count": null,
   "id": "c1c4b859",
   "metadata": {},
   "outputs": [],
   "source": [
    "np.inspace(0, 10, 27)"
   ]
  },
  {
   "cell_type": "code",
   "execution_count": null,
   "id": "82f1ea65",
   "metadata": {},
   "outputs": [],
   "source": [
    "def degree_distribution(G):\n",
    "    degrees = [deg for node, deg in G.degree()]\n",
    "    dd = Counter(degrees)\n",
    "    print(dd)"
   ]
  },
  {
   "cell_type": "code",
   "execution_count": null,
   "id": "7ccfd0ec",
   "metadata": {},
   "outputs": [],
   "source": [
    " #Power Law distributions\n",
    "# Frequency = C x Degree ^ (-gamma)\n",
    "\n",
    "gamma = -2\n",
    "xs = np.linspace(1, 200, 500)\n",
    "ys = 500 * xs ** gamma\n",
    "plt.scatter(xs, ys)    \n",
    "plt.xscale('log')\n",
    "plt.yscale('log')\n",
    "plt.grid()    \n",
    "plt.show()"
   ]
  }
 ],
 "metadata": {
  "kernelspec": {
   "display_name": "Python 3 (ipykernel)",
   "language": "python",
   "name": "python3"
  },
  "language_info": {
   "codemirror_mode": {
    "name": "ipython",
    "version": 3
   },
   "file_extension": ".py",
   "mimetype": "text/x-python",
   "name": "python",
   "nbconvert_exporter": "python",
   "pygments_lexer": "ipython3",
   "version": "3.10.11"
  }
 },
 "nbformat": 4,
 "nbformat_minor": 5
}
